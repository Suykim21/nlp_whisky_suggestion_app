{
 "cells": [
  {
   "cell_type": "markdown",
   "metadata": {},
   "source": [
    "# Capstone 3 - Data Wrangling"
   ]
  },
  {
   "cell_type": "markdown",
   "metadata": {},
   "source": [
    "## 1. Introduction to the Dataset\n",
    "The whisky dataset was retrieved by web scraping [Master of Malt](https://www.masterofmalt.com/) website. The dataset contains a 19,006 whisky data with majority of the data coming from Scotch, American, and Japanese whiskies. Summary information of its columns are shown below:\n",
    "\n",
    "- **Name**: Name of Whisky\n",
    "- **Description**: Whisky description\n",
    "- **Price**: Approximate price in USD\n",
    "- **Country**: Country of origin\n",
    "- **Distillery**: Name of distiller\n",
    "- **Bottler**: Name of bottler\n",
    "- **Style**: Whisky style\n",
    "- **Alcohol_content**: Alcohol content (%)\n",
    "- **Volume**: Liquor volume (Centiliter - cl)\n",
    "- **Nose**: Whisky's smell description\n",
    "- **Palate**: Whisky's taste description\n",
    "- **Finish**: Whisky's after taste description\n",
    "- **Review_count**: Number of reviews\n",
    "- **Rating**: Master of Malt's users' overall rating\n",
    "- **Image**: Whisky's image url\n"
   ]
  },
  {
   "cell_type": "markdown",
   "metadata": {},
   "source": [
    "## Import Raw Whisky CSV Files"
   ]
  },
  {
   "cell_type": "code",
   "execution_count": 109,
   "metadata": {},
   "outputs": [],
   "source": [
    "import pandas as pd\n",
    "import numpy as np\n",
    "\n",
    "import matplotlib.pyplot as plt"
   ]
  },
  {
   "cell_type": "code",
   "execution_count": 110,
   "metadata": {},
   "outputs": [],
   "source": [
    "american_df = pd.read_csv('dataset/american.csv', index_col=0)\n",
    "japanese_df = pd.read_csv('dataset/japanese.csv', index_col=0)\n",
    "irish_df = pd.read_csv('dataset/irish.csv', index_col=0)\n",
    "scotch_malt_df = pd.read_csv('dataset/scotch_malt.csv', index_col=0)\n",
    "scotch_blended_df = pd.read_csv('dataset/scotch_blended.csv', index_col=0)\n",
    "scotch_blended_malt_df = pd.read_csv('dataset/scotch_blended_malt.csv', index_col=0)\n",
    "scotch_grain_df = pd.read_csv('dataset/scotch_grain.csv', index_col=0)\n",
    "indian_df = pd.read_csv('dataset/indian.csv', index_col=0)\n",
    "welsh_df = pd.read_csv('dataset/welsh.csv', index_col=0)\n",
    "english_df = pd.read_csv('dataset/english.csv', index_col=0)\n",
    "canadian_df = pd.read_csv('dataset/canadian.csv', index_col=0)\n",
    "swedish_df = pd.read_csv('dataset/swedish.csv', index_col=0)\n",
    "dutch_df = pd.read_csv('dataset/dutch.csv', index_col=0)\n",
    "south_african_df = pd.read_csv('dataset/south_african.csv', index_col=0)\n",
    "australian_df = pd.read_csv('dataset/australian.csv', index_col=0)\n",
    "kiwi_df = pd.read_csv('dataset/kiwi.csv', index_col=0)\n",
    "\n",
    "df = pd.concat([american_df, japanese_df, irish_df, scotch_malt_df, scotch_blended_df, scotch_blended_malt_df, \n",
    "                scotch_grain_df, indian_df, welsh_df, english_df, canadian_df, swedish_df, dutch_df, \n",
    "                south_african_df, australian_df, kiwi_df], ignore_index=True)"
   ]
  },
  {
   "cell_type": "markdown",
   "metadata": {},
   "source": [
    "## 2. Data Cleaning\n",
    "- Check missing values in all whisky dataframes.\n",
    "- Convert price, alcohol_content, volume, review_count, and rating column from string to float.\n",
    "- Replace NaN values in nose, palate, finish, bottler, alcohol_content, and volume columns."
   ]
  },
  {
   "cell_type": "markdown",
   "metadata": {},
   "source": [
    "### 2.1 Check missing values in all whisky dataframes\n",
    "Visually display missing value count in bar graphs."
   ]
  },
  {
   "cell_type": "code",
   "execution_count": 111,
   "metadata": {},
   "outputs": [
    {
     "data": {
      "image/png": "[encoded data removed]",
      "text/plain": [
       "<Figure size 432x288 with 1 Axes>"
      ]
     },
     "metadata": {
      "needs_background": "light"
     },
     "output_type": "display_data"
    }
   ],
   "source": [
    "df.isna().sum().plot(kind='bar', title='Missing Value Count by Column')\n",
    "plt.show()"
   ]
  },
  {
   "cell_type": "code",
   "execution_count": 112,
   "metadata": {},
   "outputs": [
    {
     "data": {
      "text/plain": [
       "name               0.000000\n",
       "description        0.000000\n",
       "price              0.560297\n",
       "country            0.000000\n",
       "distillery         0.000000\n",
       "bottler            0.003841\n",
       "style              0.000000\n",
       "alcohol_content    0.003841\n",
       "volume             0.003841\n",
       "nose               0.369568\n",
       "palate             0.369620\n",
       "finish             0.373145\n",
       "review_count       0.717247\n",
       "rating             0.717352\n",
       "image              0.000000\n",
       "dtype: float64"
      ]
     },
     "execution_count": 112,
     "metadata": {},
     "output_type": "execute_result"
    }
   ],
   "source": [
    "# Display missing values by percentage\n",
    "df.isna().sum() / df.shape[0]"
   ]
  },
  {
   "cell_type": "markdown",
   "metadata": {},
   "source": [
    "Majority of the missing values are stemming from the following columns:\n",
    "- **price**: Some whiskies are collector's edition that price varies and not for sale.\n",
    "- **nose/palate/finish**: Some whiskies' characteristic is not recorded, however description column may serve details of the whisky during NLP process.\n",
    "- **review_count/rating**: This suggests that some of the whiskies haven't been reviewed by Master of Malt's users.\n",
    "\n",
    "There are too many NaNs for review_count and rating columns to give any value; therefore, removing those two columns."
   ]
  },
  {
   "cell_type": "code",
   "execution_count": 113,
   "metadata": {},
   "outputs": [],
   "source": [
    "df = df.drop(['review_count', 'rating'], axis=1)"
   ]
  },
  {
   "cell_type": "markdown",
   "metadata": {},
   "source": [
    "### 2.2 Convert price, alcohol_content, volume from string to float"
   ]
  },
  {
   "cell_type": "code",
   "execution_count": 114,
   "metadata": {},
   "outputs": [],
   "source": [
    "df['price'] = df[~df['price'].isna()]['price'].apply(lambda price: float(price))\n",
    "df['alcohol_content'] = df[~df['alcohol_content'].isna()]['alcohol_content'].apply(lambda percentage: float(percentage[:-1]))\n",
    "df['volume'] = df[~df['volume'].isna()]['volume'].apply(lambda volume: float(volume[:-2]))"
   ]
  },
  {
   "cell_type": "markdown",
   "metadata": {},
   "source": [
    "### 2.3 Replace NaN values in nose, palate, finish, bottler, alcohol_content,  and volumne columns."
   ]
  },
  {
   "cell_type": "code",
   "execution_count": 115,
   "metadata": {},
   "outputs": [],
   "source": [
    "# Replace nose, palate, and finish NaN with description values\n",
    "df.loc[df['nose'].isna(), 'nose'] = df[df['nose'].isna()]['description']\n",
    "df.loc[df['palate'].isna(), 'palate'] = df[df['palate'].isna()]['description']\n",
    "df.loc[df['finish'].isna(), 'finish'] = df[df['finish'].isna()]['description']"
   ]
  },
  {
   "cell_type": "code",
   "execution_count": 116,
   "metadata": {},
   "outputs": [],
   "source": [
    "# Replace NaN with unknown value for bottler's NaN values\n",
    "df.loc[df['bottler'].isna(), 'bottler'] = 'unknown'"
   ]
  },
  {
   "cell_type": "code",
   "execution_count": 117,
   "metadata": {},
   "outputs": [],
   "source": [
    "# Replace alcohol_content with each whisky style's average alcohol_content\n",
    "styles = df.loc[df['alcohol_content'].isna()]['style'].unique() # Get styles\n",
    "\n",
    "# Get average alcohol content per style and replace NaN\n",
    "for style in styles:\n",
    "    avg_content = round(df[(df['style'] == style) & (~df['alcohol_content'].isna())]['alcohol_content'].mean(), 2)\n",
    "    df.loc[(df['alcohol_content'].isna()) & (df['style'] == style), 'alcohol_content'] = avg_content"
   ]
  },
  {
   "cell_type": "code",
   "execution_count": 118,
   "metadata": {},
   "outputs": [],
   "source": [
    "# Same as alcohol_content - replace volumne's NaN with average volume based on style\n",
    "styles = df.loc[df['volume'].isna()]['style'].unique()\n",
    "\n",
    "for style in styles:\n",
    "    avg_volume = round(df[(df['style'] == style) & (~df['volume'].isna())]['volume'].mean(), 2)\n",
    "    df.loc[(df['volume'].isna()) & (df['style'] == style), 'volume'] = avg_volume"
   ]
  },
  {
   "cell_type": "code",
   "execution_count": 119,
   "metadata": {},
   "outputs": [
    {
     "data": {
      "text/plain": [
       "name               0.000000\n",
       "description        0.000000\n",
       "price              0.560297\n",
       "country            0.000000\n",
       "distillery         0.000000\n",
       "bottler            0.000000\n",
       "style              0.000000\n",
       "alcohol_content    0.000000\n",
       "volume             0.000000\n",
       "nose               0.000000\n",
       "palate             0.000000\n",
       "finish             0.000000\n",
       "image              0.000000\n",
       "dtype: float64"
      ]
     },
     "execution_count": 119,
     "metadata": {},
     "output_type": "execute_result"
    }
   ],
   "source": [
    "# Display missing values by percentage\n",
    "df.isna().sum() / df.shape[0]"
   ]
  },
  {
   "cell_type": "markdown",
   "metadata": {},
   "source": [
    "Allowing price column to have NaN values since averaging based on price will be way off as some goes high as 121k while lowest cost only about 4 dollars."
   ]
  },
  {
   "cell_type": "code",
   "execution_count": 120,
   "metadata": {},
   "outputs": [
    {
     "name": "stdout",
     "output_type": "stream",
     "text": [
      "121043.13\n",
      "4.04\n"
     ]
    }
   ],
   "source": [
    "print(df['price'].max())\n",
    "print(df['price'].min())"
   ]
  },
  {
   "cell_type": "code",
   "execution_count": 121,
   "metadata": {},
   "outputs": [],
   "source": [
    "# Lowercase all text values\n",
    "cols = ['name', 'description', 'country', 'distillery', 'bottler', 'style', 'nose', 'palate', 'finish']\n",
    "\n",
    "for col in cols:\n",
    "    df[col] = df[col].str.lower()"
   ]
  },
  {
   "cell_type": "markdown",
   "metadata": {},
   "source": [
    "## 3. Text Preprocessing"
   ]
  },
  {
   "cell_type": "code",
   "execution_count": 127,
   "metadata": {},
   "outputs": [],
   "source": [
    "# Import spaCy and load the language library\n",
    "import spacy\n",
    "nlp = spacy.load('en_core_web_sm')\n",
    "\n",
    "# Add additional stopword\n",
    "nlp.Defaults.stop_words.add('-pron-')\n",
    "nlp.Defaults.stop_words.add('note')"
   ]
  },
  {
   "cell_type": "code",
   "execution_count": 131,
   "metadata": {},
   "outputs": [],
   "source": [
    "def preprocess(text):\n",
    "    # Create Doc object\n",
    "    doc = nlp(text, disable=['ner', 'parser'])\n",
    "    \n",
    "    # Get stop words\n",
    "    stopwords = spacy.lang.en.stop_words.STOP_WORDS\n",
    "\n",
    "    # Generate lemmas - remove punctuation, whitespace, and lowercase\n",
    "    lemmas = [token.lemma_ for token in doc if not token.is_punct and not token.is_space]\n",
    "    \n",
    "    # Remove stopwords and non-alphabetic characters\n",
    "    a_lemmas = [lemma for lemma in lemmas if lemma.isalpha() and lemma not in stopwords]\n",
    "    \n",
    "    return ' '.join(a_lemmas)"
   ]
  },
  {
   "cell_type": "code",
   "execution_count": 132,
   "metadata": {},
   "outputs": [],
   "source": [
    "df['nose'] = df['nose'].apply(preprocess)\n",
    "df['palate'] = df['palate'].apply(preprocess)\n",
    "df['finish'] = df['finish'].apply(preprocess)\n",
    "df['description'] = df['description'].apply(preprocess)"
   ]
  },
  {
   "cell_type": "code",
   "execution_count": 133,
   "metadata": {},
   "outputs": [
    {
     "data": {
      "text/plain": [
       "'thick creamy honey spice leather touch cocoa little smoke toasty oak vanilla cream hint butterscotch'"
      ]
     },
     "execution_count": 133,
     "metadata": {},
     "output_type": "execute_result"
    }
   ],
   "source": [
    "df['nose'][0]"
   ]
  },
  {
   "cell_type": "code",
   "execution_count": 134,
   "metadata": {},
   "outputs": [
    {
     "data": {
      "text/plain": [
       "'thick espresso bean winter spice cereal sweetness plenty rye ground ginger almond oil toasty oak little rum'"
      ]
     },
     "execution_count": 134,
     "metadata": {},
     "output_type": "execute_result"
    }
   ],
   "source": [
    "df['palate'][0]"
   ]
  },
  {
   "cell_type": "code",
   "execution_count": 135,
   "metadata": {},
   "outputs": [
    {
     "data": {
      "text/plain": [
       "'long mature cereal toasty oaken spice'"
      ]
     },
     "execution_count": 135,
     "metadata": {},
     "output_type": "execute_result"
    }
   ],
   "source": [
    "df['finish'][0]"
   ]
  },
  {
   "cell_type": "code",
   "execution_count": 136,
   "metadata": {},
   "outputs": [
    {
     "data": {
      "text/plain": [
       "'mashbill woodford reserve feature high percentage rye corn rye malt whiskey unusual triple distil low proof enter barrel mature year kentucky bourbon wonderful old fashioned cocktail'"
      ]
     },
     "execution_count": 136,
     "metadata": {},
     "output_type": "execute_result"
    }
   ],
   "source": [
    "df['description'][0]"
   ]
  },
  {
   "cell_type": "code",
   "execution_count": 137,
   "metadata": {},
   "outputs": [
    {
     "data": {
      "text/html": [
       "<div>\n",
       "<style scoped>\n",
       "    .dataframe tbody tr th:only-of-type {\n",
       "        vertical-align: middle;\n",
       "    }\n",
       "\n",
       "    .dataframe tbody tr th {\n",
       "        vertical-align: top;\n",
       "    }\n",
       "\n",
       "    .dataframe thead th {\n",
       "        text-align: right;\n",
       "    }\n",
       "</style>\n",
       "<table border=\"1\" class=\"dataframe\">\n",
       "  <thead>\n",
       "    <tr style=\"text-align: right;\">\n",
       "      <th></th>\n",
       "      <th>name</th>\n",
       "      <th>description</th>\n",
       "      <th>price</th>\n",
       "      <th>country</th>\n",
       "      <th>distillery</th>\n",
       "      <th>bottler</th>\n",
       "      <th>style</th>\n",
       "      <th>alcohol_content</th>\n",
       "      <th>volume</th>\n",
       "      <th>nose</th>\n",
       "      <th>palate</th>\n",
       "      <th>finish</th>\n",
       "      <th>image</th>\n",
       "    </tr>\n",
       "  </thead>\n",
       "  <tbody>\n",
       "    <tr>\n",
       "      <th>0</th>\n",
       "      <td>woodford reserve kentucky bourbon</td>\n",
       "      <td>mashbill woodford reserve feature high percent...</td>\n",
       "      <td>35.46</td>\n",
       "      <td>american whiskey</td>\n",
       "      <td>woodford reserve</td>\n",
       "      <td>woodford reserve</td>\n",
       "      <td>bourbon whiskey</td>\n",
       "      <td>43.2</td>\n",
       "      <td>70.0</td>\n",
       "      <td>thick creamy honey spice leather touch cocoa l...</td>\n",
       "      <td>thick espresso bean winter spice cereal sweetn...</td>\n",
       "      <td>long mature cereal toasty oaken spice</td>\n",
       "      <td>cdn3.masterofmalt.com/whiskies/p-2813/woodford...</td>\n",
       "    </tr>\n",
       "    <tr>\n",
       "      <th>1</th>\n",
       "      <td>woodford reserve double oaked</td>\n",
       "      <td>finally woodford reserve double oake kentucky ...</td>\n",
       "      <td>52.90</td>\n",
       "      <td>american whiskey</td>\n",
       "      <td>woodford reserve</td>\n",
       "      <td>woodford reserve</td>\n",
       "      <td>bourbon whiskey</td>\n",
       "      <td>43.2</td>\n",
       "      <td>70.0</td>\n",
       "      <td>finally woodford reserve double oake kentucky ...</td>\n",
       "      <td>finally woodford reserve double oake kentucky ...</td>\n",
       "      <td>finally woodford reserve double oake kentucky ...</td>\n",
       "      <td>cdn3.masterofmalt.com/whiskies/p-2813/woodford...</td>\n",
       "    </tr>\n",
       "    <tr>\n",
       "      <th>2</th>\n",
       "      <td>eagle rare 10 year old</td>\n",
       "      <td>way legendary buffalo trace distillery frankfo...</td>\n",
       "      <td>37.41</td>\n",
       "      <td>american whiskey</td>\n",
       "      <td>eagle rare</td>\n",
       "      <td>eagle rare</td>\n",
       "      <td>bourbon whiskey</td>\n",
       "      <td>45.0</td>\n",
       "      <td>70.0</td>\n",
       "      <td>toasted oak way flame orange peel maple syrup</td>\n",
       "      <td>honey butter bread oily walnut touch red fruit</td>\n",
       "      <td>vanilla oak spice little bit old leather</td>\n",
       "      <td>cdn2.masterofmalt.com/whiskies/p-2813/eagle-ra...</td>\n",
       "    </tr>\n",
       "    <tr>\n",
       "      <th>3</th>\n",
       "      <td>sazerac straight rye</td>\n",
       "      <td>whiskey sazerac coffee house new orleans birth...</td>\n",
       "      <td>45.83</td>\n",
       "      <td>american whiskey</td>\n",
       "      <td>sazerac</td>\n",
       "      <td>sazerac</td>\n",
       "      <td>rye whiskey</td>\n",
       "      <td>45.0</td>\n",
       "      <td>70.0</td>\n",
       "      <td>sweet spice stem ginger syrup orange zest fres...</td>\n",
       "      <td>thick spicy palate seville orange marmalade al...</td>\n",
       "      <td>oily spicy finish</td>\n",
       "      <td>cdn2.masterofmalt.com/whiskies/p-2813/sazerac/...</td>\n",
       "    </tr>\n",
       "    <tr>\n",
       "      <th>4</th>\n",
       "      <td>evan williams extra aged</td>\n",
       "      <td>popular brand bourbon kentucky produce rich va...</td>\n",
       "      <td>31.01</td>\n",
       "      <td>american whiskey</td>\n",
       "      <td>evan williams</td>\n",
       "      <td>evan williams</td>\n",
       "      <td>bourbon whiskey</td>\n",
       "      <td>43.0</td>\n",
       "      <td>70.0</td>\n",
       "      <td>caramel apple spearmint black pepper light hin...</td>\n",
       "      <td>raisin walnut creamy vanilla core underpinning...</td>\n",
       "      <td>spicy dry cinnamon bark pine nut</td>\n",
       "      <td>cdn3.masterofmalt.com/whiskies/p-2813/evan-wil...</td>\n",
       "    </tr>\n",
       "  </tbody>\n",
       "</table>\n",
       "</div>"
      ],
      "text/plain": [
       "                                name  \\\n",
       "0  woodford reserve kentucky bourbon   \n",
       "1      woodford reserve double oaked   \n",
       "2             eagle rare 10 year old   \n",
       "3               sazerac straight rye   \n",
       "4           evan williams extra aged   \n",
       "\n",
       "                                         description  price           country  \\\n",
       "0  mashbill woodford reserve feature high percent...  35.46  american whiskey   \n",
       "1  finally woodford reserve double oake kentucky ...  52.90  american whiskey   \n",
       "2  way legendary buffalo trace distillery frankfo...  37.41  american whiskey   \n",
       "3  whiskey sazerac coffee house new orleans birth...  45.83  american whiskey   \n",
       "4  popular brand bourbon kentucky produce rich va...  31.01  american whiskey   \n",
       "\n",
       "         distillery           bottler            style  alcohol_content  \\\n",
       "0  woodford reserve  woodford reserve  bourbon whiskey             43.2   \n",
       "1  woodford reserve  woodford reserve  bourbon whiskey             43.2   \n",
       "2        eagle rare        eagle rare  bourbon whiskey             45.0   \n",
       "3           sazerac           sazerac      rye whiskey             45.0   \n",
       "4     evan williams     evan williams  bourbon whiskey             43.0   \n",
       "\n",
       "   volume                                               nose  \\\n",
       "0    70.0  thick creamy honey spice leather touch cocoa l...   \n",
       "1    70.0  finally woodford reserve double oake kentucky ...   \n",
       "2    70.0      toasted oak way flame orange peel maple syrup   \n",
       "3    70.0  sweet spice stem ginger syrup orange zest fres...   \n",
       "4    70.0  caramel apple spearmint black pepper light hin...   \n",
       "\n",
       "                                              palate  \\\n",
       "0  thick espresso bean winter spice cereal sweetn...   \n",
       "1  finally woodford reserve double oake kentucky ...   \n",
       "2     honey butter bread oily walnut touch red fruit   \n",
       "3  thick spicy palate seville orange marmalade al...   \n",
       "4  raisin walnut creamy vanilla core underpinning...   \n",
       "\n",
       "                                              finish  \\\n",
       "0              long mature cereal toasty oaken spice   \n",
       "1  finally woodford reserve double oake kentucky ...   \n",
       "2           vanilla oak spice little bit old leather   \n",
       "3                                  oily spicy finish   \n",
       "4                   spicy dry cinnamon bark pine nut   \n",
       "\n",
       "                                               image  \n",
       "0  cdn3.masterofmalt.com/whiskies/p-2813/woodford...  \n",
       "1  cdn3.masterofmalt.com/whiskies/p-2813/woodford...  \n",
       "2  cdn2.masterofmalt.com/whiskies/p-2813/eagle-ra...  \n",
       "3  cdn2.masterofmalt.com/whiskies/p-2813/sazerac/...  \n",
       "4  cdn3.masterofmalt.com/whiskies/p-2813/evan-wil...  "
      ]
     },
     "execution_count": 137,
     "metadata": {},
     "output_type": "execute_result"
    }
   ],
   "source": [
    "df.head()"
   ]
  },
  {
   "cell_type": "code",
   "execution_count": 138,
   "metadata": {},
   "outputs": [],
   "source": [
    "# Save data\n",
    "df.to_csv('dataset/clean_data.csv')"
   ]
  }
 ],
 "metadata": {
  "kernelspec": {
   "display_name": "Python 3",
   "language": "python",
   "name": "python3"
  },
  "language_info": {
   "codemirror_mode": {
    "name": "ipython",
    "version": 3
   },
   "file_extension": ".py",
   "mimetype": "text/x-python",
   "name": "python",
   "nbconvert_exporter": "python",
   "pygments_lexer": "ipython3",
   "version": "3.8.5"
  }
 },
 "nbformat": 4,
 "nbformat_minor": 4
}
