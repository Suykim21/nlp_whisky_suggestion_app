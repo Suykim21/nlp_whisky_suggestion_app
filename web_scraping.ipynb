{
 "cells": [
  {
   "cell_type": "code",
   "execution_count": 2,
   "metadata": {},
   "outputs": [],
   "source": [
    "import pandas as pd\n",
    "\n",
    "# Used for Web Scraping\n",
    "import requests \n",
    "from bs4 import BeautifulSoup \n",
    "\n",
    "# Visual\n",
    "import matplotlib.pyplot as plt\n",
    "\n",
    "# Ignore warning messages\n",
    "import warnings\n",
    "warnings.filterwarnings('ignore')"
   ]
  },
  {
   "cell_type": "code",
   "execution_count": 153,
   "metadata": {},
   "outputs": [],
   "source": [
    "def get_url_price(url):\n",
    "    '''\n",
    "    Gets whisky details' url per region/country.\n",
    "    \n",
    "    Parameters\n",
    "    ----------\n",
    "    links: list of str\n",
    "        Whisky's region/country url.\n",
    "    Returns\n",
    "    -------\n",
    "    urls: list of lists\n",
    "        Gets url and price per whisky page.\n",
    "    '''\n",
    "    urls = []\n",
    "    status_code = 200 # Set 200 by default to loop over all links\n",
    "    i = 1 # Initial page number\n",
    "    \n",
    "    while status_code == 200:\n",
    "        \n",
    "        result = requests.get(f'{url}/{i}') # Navigate to product list page\n",
    "        status_code = result.status_code # Check status code if its valid url\n",
    "        \n",
    "        if status_code == 200:\n",
    "            \n",
    "            # Get page content and parse and process the source\n",
    "            src = result.content\n",
    "            soup = BeautifulSoup(src, 'html.parser')\n",
    "\n",
    "            # Find product container that has list of whiskies\n",
    "            products = soup.find_all('div', class_='product-box-wide')\n",
    "            \n",
    "            for product in products:\n",
    "\n",
    "                link = product['data-product-url']\n",
    "                elem_id = product['id'][:-15]\n",
    "                price_id = elem_id + 'pricesWrapper'\n",
    "                elems = soup.find_all('div', {'id': price_id})\n",
    "                price = None\n",
    "                \n",
    "                # Get price - prices are tricky because it has different class names located \n",
    "                # in different elements (span, div)\n",
    "                if (len(elems) > 0):\n",
    "                    try:\n",
    "                        price = elems[0].text[1:] # Remove '$' and convert string to float\n",
    "                    except:\n",
    "                        price_id = elem_id + 'price'\n",
    "                        elems = soup.find_all('span', {'id': price_id})\n",
    "                        price = elems[0].text[1:]\n",
    "                    \n",
    "                urls.append([link, price])\n",
    "\n",
    "            i += 1 # Increment to move onto next page to grab more whisky product links\n",
    "\n",
    "    return urls"
   ]
  },
  {
   "cell_type": "code",
   "execution_count": 1,
   "metadata": {},
   "outputs": [],
   "source": [
    "def get_details(urls):\n",
    "    '''\n",
    "    Gets whisky details, formulates, and returns whisky dataframe.\n",
    "    \n",
    "    Parameters\n",
    "    ----------\n",
    "    links: list of lists\n",
    "        Whisky's price and whiskey details' url.\n",
    "    Returns\n",
    "    -------\n",
    "    df: pandas.DataFrame\n",
    "        Returns whisky dataframe from specific region/country.\n",
    "    '''\n",
    "    names = []\n",
    "    images = []\n",
    "    description = []\n",
    "    prices = []\n",
    "    countries = []\n",
    "    distilleries = []\n",
    "    bottlers = []\n",
    "    styles = []\n",
    "    alcohol_content = []\n",
    "    volume = []\n",
    "    nose = []\n",
    "    palate = []\n",
    "    finish = []\n",
    "    review_count = []\n",
    "    ratings = []\n",
    "    prices = []\n",
    "    \n",
    "    for link in urls:\n",
    "        \n",
    "        # Get url\n",
    "        url = link[0] \n",
    "        \n",
    "        # Get whisky details page\n",
    "        result = requests.get(url)\n",
    "        src = result.content\n",
    "        soup = BeautifulSoup(src, 'html.parser')\n",
    "        \n",
    "        # Title - if it errors out - it means we got wrong url for whiskey product - so ignore\n",
    "        try:\n",
    "            names.append(soup.find('h1', class_='page_header').text)\n",
    "        except:\n",
    "            continue # skip\n",
    "        \n",
    "        # Get Price\n",
    "        price = link[1]\n",
    "        \n",
    "        if price == None:\n",
    "            prices.append(price)\n",
    "        elif price.find('$') == -1:\n",
    "            prices.append(price.replace(',', '')) # Remove comma ex: 2,238.45 => 2238.45\n",
    "        else:\n",
    "            new_price = ''\n",
    "            \n",
    "            for i in price.strip('\\n').replace('\\n', \"|\")[1:]:\n",
    "                if i != '|':\n",
    "                    new_price += i\n",
    "                else:\n",
    "                    break\n",
    "            \n",
    "            prices.append(new_price)\n",
    "        \n",
    "        # Image\n",
    "        try:\n",
    "            images.append(soup.find('div', class_='productImageWrap').find('img')['src'][2:-7])\n",
    "        except:\n",
    "            images.append(None)\n",
    "            \n",
    "        # Description\n",
    "        description.append(soup.find(\"div\", attrs={\"itemprop\":'description'}).select_one('p').text)\n",
    "\n",
    "        # Nose, Palate, Finish (tasting notes)\n",
    "        notes = soup.find_all('p', class_='pageCopy')\n",
    "        \n",
    "        # Set nose, palate, finish as None by default\n",
    "        nose.append(None)\n",
    "        palate.append(None)\n",
    "        finish.append(None)\n",
    "            \n",
    "        if len(notes) > 1:\n",
    "            for i in range(len(notes)):\n",
    "\n",
    "                # Get whisky characteristic\n",
    "                note = notes[i].text\n",
    "                \n",
    "                if note.find('Nose') > -1: # Nose (smell)\n",
    "                    nose[len(nose) - 1] = note[5:].strip()\n",
    "                elif note.find('Palate') > -1: # Palate (taste)\n",
    "                    palate[len(palate) - 1] = note[7:].strip()\n",
    "                elif note.find('Finish') > - 1: # Finish (after taste)\n",
    "                    finish[len(finish) - 1] = note[7:].strip()\n",
    "                    \n",
    "        elif len(notes) == 1:\n",
    "            # At times - nose, palate, and finish characteristics are in one paragraph\n",
    "            # Therefore, add text to all three categories\n",
    "            note = notes[0].text\n",
    "            \n",
    "            nose[len(nose) - 1] = note\n",
    "            palate[len(palate) - 1] = note\n",
    "            finish[len(finish) - 1] = note\n",
    "\n",
    "        # Get details' values \n",
    "        details = soup.find('div', {\"id\": 'whiskyDetailsWrapper'}).find_all('div')[0].find_all('span', class_='kv-val')\n",
    "        \n",
    "        # Get details' titles (country, distillery, bottler, style, alcohol, and volume)\n",
    "        titles = soup.find('div', {\"id\": 'whiskyDetailsWrapper'}).find_all('div')[0].find_all('span', class_='kv-key')\n",
    "        \n",
    "        #  Set below properties as None by default\n",
    "        countries.append(None)\n",
    "        distilleries.append(None)\n",
    "        bottlers.append(None)\n",
    "        styles.append(None)\n",
    "        alcohol_content.append(None)\n",
    "        volume.append(None)\n",
    "        \n",
    "        for i in range(len(titles)):\n",
    "\n",
    "            detail = details[i].text\n",
    "            title = titles[i].text.lower()\n",
    "            \n",
    "            if title == 'country':\n",
    "                countries[len(countries) - 1] = detail\n",
    "            elif title == 'distillery / brand':\n",
    "                distilleries[len(distilleries) - 1] = detail\n",
    "            elif title == 'bottler':\n",
    "                bottlers[len(bottlers) - 1] = detail\n",
    "            elif title == 'style':\n",
    "                styles[len(styles) - 1] = detail\n",
    "            elif title == 'alcohol':\n",
    "                alcohol_content[len(alcohol_content) - 1] = detail\n",
    "            elif title == 'volume':\n",
    "                volume[len(volume) - 1] = detail\n",
    "        \n",
    "        # Get review count\n",
    "        nums = soup.find_all(\"div\", attrs={\"itemprop\":'reviewCount'})\n",
    "        \n",
    "        review_count.append(None)\n",
    "        ratings.append(None)\n",
    "            \n",
    "        # When there is review count retrieve it\n",
    "        if len(nums) > 0:\n",
    "            \n",
    "            # Get review count\n",
    "            review_count[len(review_count) - 1] = int(nums[0]['content'])\n",
    "            \n",
    "            try:\n",
    "                # Get review rating\n",
    "                stars = soup.find('div', {'class':['starRating', 'rating-wrapper']})['title']\n",
    "\n",
    "                # Remove non-integers\n",
    "                new_str = ''\n",
    "\n",
    "                for star in stars:\n",
    "\n",
    "                    # Remove non-integers\n",
    "                    if star.isdigit() or star == '.':\n",
    "                        new_str += star\n",
    "\n",
    "                ratings[len(ratings) - 1] = float(new_str)\n",
    "            except:\n",
    "                ratings[len(ratings) - 1] = None\n",
    "                \n",
    "            \n",
    "    # Create whisky dataframe with collected data\n",
    "    data = {'name': names, \n",
    "            'description': description,\n",
    "            'price': prices,\n",
    "            'country': countries, \n",
    "            'distillery': distilleries, \n",
    "            'bottler': bottlers, \n",
    "            'style': styles, \n",
    "            'alcohol_content': alcohol_content, \n",
    "            'volume': volume, \n",
    "            'nose': nose, \n",
    "            'palate': palate, 'finish': finish, \n",
    "            'review_count': review_count, \n",
    "            'rating': ratings,\n",
    "            'image': images\n",
    "           }\n",
    "    \n",
    "    return pd.DataFrame(data=data)"
   ]
  },
  {
   "cell_type": "code",
   "execution_count": 186,
   "metadata": {},
   "outputs": [],
   "source": [
    "def fix_error(df):\n",
    "    '''\n",
    "    Resolves row issues where whisky details are defined in correct row index.\n",
    "    \n",
    "    Parameters\n",
    "    ----------\n",
    "    df: pandas.DataFrame\n",
    "        Whisky dataframe\n",
    "    Returns\n",
    "    -------\n",
    "    df: pandas.DataFrame\n",
    "        Updated and corrected whisky dataframe\n",
    "    '''\n",
    "    # Filter rows without image values\n",
    "    mask = df[['image']].isna().all(axis=1)\n",
    "    temp_df = df[mask] \n",
    "    \n",
    "    if temp_df.shape[0] > 0:\n",
    "        temp_df.reset_index(drop=True, inplace=True)\n",
    "\n",
    "        for i in range(0, temp_df.shape[0], 2):\n",
    "\n",
    "            j = i + 1\n",
    "            indices.append(j)\n",
    "            \n",
    "            # Update\n",
    "            temp_df.loc[i, temp_df.columns[2:]] = [\n",
    "                temp_df.loc[j, 'name'],\n",
    "                temp_df.loc[j, 'description'], \n",
    "                temp_df.loc[j, 'price'], \n",
    "                temp_df.loc[j, 'country'],\n",
    "                temp_df.loc[j, 'distillery'], \n",
    "                temp_df.loc[j, 'bottler'],\n",
    "                temp_df.loc[j, 'style'], \n",
    "                temp_df.loc[j, 'alcohol_content'],\n",
    "                temp_df.loc[j, 'volume'],\n",
    "                temp_df.loc[j, 'nose'],\n",
    "                temp_df.loc[j, 'palate'],\n",
    "                temp_df.loc[j, 'finish'],\n",
    "                temp_df.loc[j, 'review_count']\n",
    "            ]\n",
    "\n",
    "        df = pd.concat([df, temp_df]).drop_duplicates(['name'], keep='last') # Combine and remove duplicates\n",
    "        df = df.dropna(subset=['name', 'image']) # Drop rows that has missing values on 'name' nd 'image'\n",
    "        \n",
    "    return df.reset_index(drop=True) # Reset index"
   ]
  },
  {
   "cell_type": "markdown",
   "metadata": {},
   "source": [
    "## Get Whisky Product Details Per Country/Region"
   ]
  },
  {
   "cell_type": "code",
   "execution_count": 182,
   "metadata": {},
   "outputs": [],
   "source": [
    "# Get product id, url, and price per whisky product in each country/style categories\n",
    "american_urls = get_url_price('https://www.masterofmalt.com/country/american-whisky/')\n",
    "japanese_urls = get_url_price('https://www.masterofmalt.com/country/japanese-whisky/')\n",
    "irish_urls = get_url_price('https://www.masterofmalt.com/country/irish-whisky/')\n",
    "scotch_malt_urls = get_url_price('https://www.masterofmalt.com/country-style/scotch/single-malt-whisky/')\n",
    "scotch_blended_urls = get_url_price('https://www.masterofmalt.com/country-style/scotch/blended-whisky/')\n",
    "scotch_blended_malt_urls = get_url_price('https://www.masterofmalt.com/country-style/scotch/blended-malt-whisky/')\n",
    "scotch_grain_urls = get_url_price('https://www.masterofmalt.com/country-style/scotch/grain-whisky/')\n",
    "indian_urls = get_url_price('https://www.masterofmalt.com/country/indian-whisky/')\n",
    "welsh_urls = get_url_price('https://www.masterofmalt.com/country/welsh-whisky/')\n",
    "english_urls = get_url_price('https://www.masterofmalt.com/country/english-whisky/')\n",
    "canadian_urls = get_url_price('https://www.masterofmalt.com/country/canadian-whisky/')\n",
    "swedish_urls = get_url_price('https://www.masterofmalt.com/country/swedish-whisky/')\n",
    "dutch_urls = get_url_price('https://www.masterofmalt.com/country/dutch-whisky/')\n",
    "south_african_urls = get_url_price('https://www.masterofmalt.com/country/south-african-whisky/')\n",
    "australian_urls = get_url_price('https://www.masterofmalt.com/country/australian-whisky/')\n",
    "kiwi_urls = get_url_price('https://www.masterofmalt.com/country/kiwi-whisky/')"
   ]
  },
  {
   "cell_type": "code",
   "execution_count": 183,
   "metadata": {},
   "outputs": [],
   "source": [
    "american_df = get_details(american_urls)"
   ]
  },
  {
   "cell_type": "code",
   "execution_count": 184,
   "metadata": {},
   "outputs": [],
   "source": [
    "japanese_df = get_details(japanese_urls)"
   ]
  },
  {
   "cell_type": "code",
   "execution_count": 187,
   "metadata": {},
   "outputs": [],
   "source": [
    "irish_df = get_details(irish_urls)"
   ]
  },
  {
   "cell_type": "code",
   "execution_count": 197,
   "metadata": {},
   "outputs": [],
   "source": [
    "scotch_malt_df = get_details(scotch_malt_urls)"
   ]
  },
  {
   "cell_type": "code",
   "execution_count": 198,
   "metadata": {},
   "outputs": [],
   "source": [
    "scotch_blended_df = get_details(scotch_blended_urls)"
   ]
  },
  {
   "cell_type": "code",
   "execution_count": 199,
   "metadata": {},
   "outputs": [],
   "source": [
    "scotch_blended_malt_df = get_details(scotch_blended_malt_urls)"
   ]
  },
  {
   "cell_type": "code",
   "execution_count": 200,
   "metadata": {},
   "outputs": [],
   "source": [
    "scotch_grain_df = get_details(scotch_grain_urls)"
   ]
  },
  {
   "cell_type": "code",
   "execution_count": 188,
   "metadata": {},
   "outputs": [],
   "source": [
    "indian_df = get_details(indian_urls)"
   ]
  },
  {
   "cell_type": "code",
   "execution_count": 189,
   "metadata": {},
   "outputs": [],
   "source": [
    "welsh_df = get_details(welsh_urls)"
   ]
  },
  {
   "cell_type": "code",
   "execution_count": 190,
   "metadata": {},
   "outputs": [],
   "source": [
    "english_df = get_details(english_urls)"
   ]
  },
  {
   "cell_type": "code",
   "execution_count": 191,
   "metadata": {},
   "outputs": [],
   "source": [
    "canadian_df = get_details(canadian_urls)"
   ]
  },
  {
   "cell_type": "code",
   "execution_count": 192,
   "metadata": {},
   "outputs": [],
   "source": [
    "swedish_df = get_details(swedish_urls)"
   ]
  },
  {
   "cell_type": "code",
   "execution_count": 193,
   "metadata": {},
   "outputs": [],
   "source": [
    "dutch_df = get_details(dutch_urls)"
   ]
  },
  {
   "cell_type": "code",
   "execution_count": 194,
   "metadata": {},
   "outputs": [],
   "source": [
    "south_african_df = get_details(south_african_urls)"
   ]
  },
  {
   "cell_type": "code",
   "execution_count": 195,
   "metadata": {},
   "outputs": [],
   "source": [
    "australian_df = get_details(australian_urls)"
   ]
  },
  {
   "cell_type": "code",
   "execution_count": 196,
   "metadata": {},
   "outputs": [],
   "source": [
    "kiwi_df = get_details(kiwi_urls)"
   ]
  },
  {
   "cell_type": "code",
   "execution_count": 187,
   "metadata": {},
   "outputs": [],
   "source": [
    "# Resolve erroreneous rows that does not have 'name' and 'image' values\n",
    "american_df = fix_error(american_df)\n",
    "japanese_df = fix_error(japanese_df)\n",
    "irish_df = fix_error(irish_df)\n",
    "scotch_malt_df = fix_error(scotch_malt_df)\n",
    "scotch_blended_df = fix_error(scotch_blended_df)\n",
    "scotch_blended_malt_df = fix_error(scotch_blended_malt_df)\n",
    "scotch_grain_df = fix_error(scotch_grain_df)\n",
    "indian_df = fix_error(indian_df)\n",
    "welsh_df = fix_error(welsh_df)\n",
    "english_df = fix_error(english_df)\n",
    "canadian_df = fix_error(canadian_df)\n",
    "swedish_df = fix_error(swedish_df)\n",
    "dutch_df = fix_error(dutch_df)\n",
    "south_african_df = fix_error(south_african_df)\n",
    "australian_df = fix_error(australian_df)\n",
    "kiwi_df = fix_error(kiwi_df)"
   ]
  },
  {
   "cell_type": "code",
   "execution_count": 3,
   "metadata": {},
   "outputs": [],
   "source": [
    "# Combine whiskey dataframes (vertical stacking)\n",
    "df = pd.concat([american_df, japanese_df, irish_df, scotch_malt_df, scotch_blended_df, scotch_blended_malt_df, \n",
    "                scotch_grain_df, indian_df, welsh_df, english_df, canadian_df, swedish_df, dutch_df, \n",
    "                south_african_df, australian_df, kiwi_df], axis=0)"
   ]
  },
  {
   "cell_type": "code",
   "execution_count": 4,
   "metadata": {},
   "outputs": [
    {
     "data": {
      "text/plain": [
       "(19006, 15)"
      ]
     },
     "execution_count": 4,
     "metadata": {},
     "output_type": "execute_result"
    }
   ],
   "source": []
  },
  {
   "cell_type": "markdown",
   "metadata": {},
   "source": [
    "## Save Whisky Product Details Per Country/Region"
   ]
  },
  {
   "cell_type": "code",
   "execution_count": 190,
   "metadata": {},
   "outputs": [],
   "source": [
    "american_df.to_csv('dataset/american.csv')\n",
    "japanese_df.to_csv('dataset/japanese.csv')\n",
    "irish_df.to_csv('dataset/irish.csv')\n",
    "scotch_malt_df.to_csv('dataset/scotch_malt.csv')\n",
    "scotch_blended_df.to_csv('dataset/scotch_blended.csv')\n",
    "scotch_blended_malt_df.to_csv('dataset/scotch_blended_malt.csv')\n",
    "scotch_grain_df.to_csv('dataset/scotch_grain.csv')\n",
    "indian_df.to_csv('dataset/indian.csv')\n",
    "welsh_df.to_csv('dataset/welsh.csv')\n",
    "english_df.to_csv('dataset/english.csv')\n",
    "canadian_df.to_csv('dataset/canadian.csv')\n",
    "swedish_df.to_csv('dataset/swedish.csv')\n",
    "dutch_df.to_csv('dataset/dutch.csv')\n",
    "south_african_df.to_csv('dataset/south_african.csv')\n",
    "australian_df.to_csv('dataset/australian.csv')\n",
    "kiwi_df.to_csv('dataset/kiwi.csv')"
   ]
  }
 ],
 "metadata": {
  "kernelspec": {
   "display_name": "Python 3",
   "language": "python",
   "name": "python3"
  },
  "language_info": {
   "codemirror_mode": {
    "name": "ipython",
    "version": 3
   },
   "file_extension": ".py",
   "mimetype": "text/x-python",
   "name": "python",
   "nbconvert_exporter": "python",
   "pygments_lexer": "ipython3",
   "version": "3.8.5"
  }
 },
 "nbformat": 4,
 "nbformat_minor": 4
}
